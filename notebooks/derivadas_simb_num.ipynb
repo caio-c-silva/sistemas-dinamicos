{
 "cells": [
  {
   "cell_type": "code",
   "execution_count": null,
   "id": "d7976594",
   "metadata": {},
   "outputs": [],
   "source": [
    "# Manipulação simbólica de expressões matemáticas\n",
    "import sympy as smp\n",
    "\n",
    "# Derivação numérica \n",
    "import numpy as np\n",
    "import scipy as sp\n",
    "from scipy.misc import derivative\n",
    "\n",
    "# Visualização \n",
    "import matplotlib.pyplot as plt"
   ]
  },
  {
   "cell_type": "markdown",
   "id": "27a6d4ec",
   "metadata": {},
   "source": [
    "# Manipulação Simbólica\n",
    "\n",
    "Quando a função é conhecida, o computador faz toda a manipulação simbólica como se estivesse sendo feito no papel.\n",
    "\n",
    "**Example:** $$f(x) = ax^2 + cos(bx)$$"
   ]
  },
  {
   "cell_type": "markdown",
   "id": "4e99e9f2",
   "metadata": {},
   "source": [
    "O primeiro passo é definir os símbolos"
   ]
  },
  {
   "cell_type": "code",
   "execution_count": null,
   "id": "9b1264b6",
   "metadata": {},
   "outputs": [],
   "source": [
    "x, a, b = smp.symbols('x a b', real=True)"
   ]
  },
  {
   "cell_type": "code",
   "execution_count": null,
   "id": "6e71614c",
   "metadata": {},
   "outputs": [],
   "source": [
    "f = a*x**2+smp.cos(b*x)"
   ]
  },
  {
   "cell_type": "markdown",
   "id": "08d73d48",
   "metadata": {},
   "source": [
    "A derivada será computada utilizando `smp.diff(f, x)` onde $f$ é a função que você quer calcular a derivada e $x$ é a variável independente."
   ]
  },
  {
   "cell_type": "code",
   "execution_count": null,
   "id": "e4215520",
   "metadata": {},
   "outputs": [],
   "source": [
    "dfdx = smp.diff(f, x)\n",
    "dfdx"
   ]
  },
  {
   "cell_type": "markdown",
   "id": "1585d795",
   "metadata": {},
   "source": [
    "A enésima derivada $d^n f/dx^n$ pode ser calculada incluindo $n$ como o terceiro argumento da função `smp.diff(f,x,n)`."
   ]
  },
  {
   "cell_type": "code",
   "execution_count": null,
   "id": "b407b9d8",
   "metadata": {},
   "outputs": [],
   "source": [
    "d2fdx2 = smp.diff(f, x, 2)\n",
    "d2fdx2"
   ]
  },
  {
   "cell_type": "markdown",
   "id": "dca7a9a8",
   "metadata": {},
   "source": [
    "A função pode ser avaliada substituindo valores numéricos"
   ]
  },
  {
   "cell_type": "code",
   "execution_count": null,
   "id": "73411fc8",
   "metadata": {},
   "outputs": [],
   "source": [
    "dfdx.subs([(x,4),(a,1),(b,2)]).evalf()"
   ]
  },
  {
   "cell_type": "markdown",
   "id": "843cabe1",
   "metadata": {},
   "source": [
    "A função pode ser convertida em uma função numérica para visualização"
   ]
  },
  {
   "cell_type": "code",
   "execution_count": null,
   "id": "93a4ad7f",
   "metadata": {},
   "outputs": [],
   "source": [
    "dfdx_f = smp.lambdify((x,a,b), dfdx)"
   ]
  },
  {
   "cell_type": "markdown",
   "id": "be14f6f2",
   "metadata": {},
   "source": [
    "Definindo os valores de $x$ e $y$ usando a função numérica acima"
   ]
  },
  {
   "cell_type": "code",
   "execution_count": null,
   "id": "78b903ac",
   "metadata": {},
   "outputs": [],
   "source": [
    "x = np.linspace(1,10,100)"
   ]
  },
  {
   "cell_type": "code",
   "execution_count": null,
   "id": "e669ce4d",
   "metadata": {},
   "outputs": [],
   "source": [
    "y = dfdx_f(x, a=1, b=2)"
   ]
  },
  {
   "cell_type": "markdown",
   "id": "a1b1662a",
   "metadata": {},
   "source": [
    "Plot"
   ]
  },
  {
   "cell_type": "code",
   "execution_count": null,
   "id": "d414f4aa",
   "metadata": {},
   "outputs": [],
   "source": [
    "plt.plot(x,y)\n",
    "plt.ylabel('$df / dx$', fontsize=24)\n",
    "plt.xlabel('$x$', fontsize=24);"
   ]
  },
  {
   "cell_type": "markdown",
   "id": "46e1a080-869b-4ad4-8be9-715e429312b3",
   "metadata": {},
   "source": [
    "## Exercícios\n",
    "\n",
    "Calcule a primeira e segunda derivada da seguinte função:\n",
    "\n",
    "$$f(x) = (x + 2\\sqrt{x})sen(x) + e^{cos(x)/x} + ln(x^2)$$\n",
    "\n",
    "Faça um gráfico mostrando a função, a primeira derivada e a segunda derivada avaliadas no intervalo [1, 20]\n",
    "\n",
    "Use as seguintes funções em sympy:\n",
    "\n",
    "| Função Matemática | Função Sympy|\n",
    "| --- | ---|\n",
    "| $$e^x$$| smp.exp(x)|\n",
    "| $$ln(x)$$| smp.log(x)|\n",
    "| $$cos(x)$$| smp.cos(x)|\n",
    "| $$sen(x)$$| smp.sin(x)|\n",
    "| $$\\sqrt{x}$$| smp.sqrt(x)|"
   ]
  },
  {
   "cell_type": "code",
   "execution_count": null,
   "id": "25bac76a-1220-4226-9a38-1108c634d741",
   "metadata": {},
   "outputs": [],
   "source": []
  },
  {
   "cell_type": "markdown",
   "id": "5a436051",
   "metadata": {},
   "source": [
    "# Derivação Numérica"
   ]
  },
  {
   "cell_type": "markdown",
   "id": "4787990b",
   "metadata": {},
   "source": [
    "Você possui o seguinte conjunto de dados"
   ]
  },
  {
   "cell_type": "code",
   "execution_count": null,
   "id": "27110fb9",
   "metadata": {},
   "outputs": [],
   "source": [
    "x, y = np.loadtxt('dados/dados1.txt')"
   ]
  },
  {
   "cell_type": "code",
   "execution_count": null,
   "id": "91db7784",
   "metadata": {},
   "outputs": [],
   "source": [
    "plt.plot(x, y, 'o--');"
   ]
  },
  {
   "cell_type": "markdown",
   "id": "6369e49e",
   "metadata": {},
   "source": [
    "Existem duas formas de obter a derivada dos dados"
   ]
  },
  {
   "cell_type": "markdown",
   "id": "ff45f48c",
   "metadata": {},
   "source": [
    "**1: Forma Básica**"
   ]
  },
  {
   "cell_type": "code",
   "execution_count": null,
   "id": "d3884e3b",
   "metadata": {},
   "outputs": [],
   "source": [
    "dydx = np.gradient(y,x)"
   ]
  },
  {
   "cell_type": "code",
   "execution_count": null,
   "id": "16cc91f0",
   "metadata": {},
   "outputs": [],
   "source": [
    "plt.plot(x,y, 'o--', label='$y(x)$')\n",
    "plt.plot(x,dydx, 'o--', label='$y\\'(x)$')\n",
    "plt.legend();"
   ]
  },
  {
   "cell_type": "markdown",
   "id": "c36ce46c",
   "metadata": {},
   "source": [
    "Essa forma é utilizada somente quando os dados não possuem ruídos:"
   ]
  },
  {
   "cell_type": "code",
   "execution_count": null,
   "id": "370e46ee",
   "metadata": {},
   "outputs": [],
   "source": [
    "x, y = np.loadtxt('dados/dados2.txt')\n",
    "dydx = np.gradient(y,x)"
   ]
  },
  {
   "cell_type": "markdown",
   "id": "969a31c0",
   "metadata": {},
   "source": [
    "Visualizando os dados e a derivada"
   ]
  },
  {
   "cell_type": "code",
   "execution_count": null,
   "id": "623a1356",
   "metadata": {},
   "outputs": [],
   "source": [
    "fig, ax = plt.subplots(1, 2, figsize=(10,3))\n",
    "ax[0].plot(x,y, label='$y(x)$')\n",
    "ax[1].plot(x,dydx, label='$y\\'(x)$', color='r')\n",
    "[a.legend() for a in ax]\n",
    "plt.show()"
   ]
  },
  {
   "cell_type": "markdown",
   "id": "9e36cb5b",
   "metadata": {},
   "source": [
    "A derivação amplifica o ruído!"
   ]
  },
  {
   "cell_type": "markdown",
   "id": "c48bc04d",
   "metadata": {},
   "source": [
    "**2. Forma Sofisticada**\n",
    "\n",
    "Primeiro é necessário suavizar (smooth) os dados"
   ]
  },
  {
   "cell_type": "code",
   "execution_count": null,
   "id": "6a473820",
   "metadata": {},
   "outputs": [],
   "source": [
    "x, y = np.loadtxt('dados/dados3.txt')\n",
    "dydx = np.gradient(y,x)"
   ]
  },
  {
   "cell_type": "markdown",
   "id": "00872f2a",
   "metadata": {},
   "source": [
    "Calcular a derivada antes amplica o ruído"
   ]
  },
  {
   "cell_type": "code",
   "execution_count": null,
   "id": "ebbeda2a",
   "metadata": {},
   "outputs": [],
   "source": [
    "fig, ax = plt.subplots(1, 2, figsize=(10,3))\n",
    "ax[0].plot(x,y, label='$y(x)$')\n",
    "ax[1].plot(x,dydx, label='$y\\'(x)$', color='r')\n",
    "[a.legend() for a in ax]\n",
    "plt.show()"
   ]
  },
  {
   "cell_type": "markdown",
   "id": "272c14ee",
   "metadata": {},
   "source": [
    "Os dados podem ser suavizados a partir da convolução com um retângulo."
   ]
  },
  {
   "cell_type": "code",
   "execution_count": null,
   "id": "c00a9e5f",
   "metadata": {},
   "outputs": [],
   "source": [
    "filt_len = 15\n",
    "y_smooth = np.convolve(y, np.ones(filt_len)/filt_len, mode='same')"
   ]
  },
  {
   "cell_type": "code",
   "execution_count": null,
   "id": "08f4fa2b-9463-4af7-912f-ee824b3a9b1a",
   "metadata": {},
   "outputs": [],
   "source": [
    "plt.plot(x, y, 'b')\n",
    "plt.plot(x, y_smooth, 'r');"
   ]
  },
  {
   "cell_type": "code",
   "execution_count": null,
   "id": "55aeed9d-a878-4fec-a68e-ed9dac1c3f31",
   "metadata": {},
   "outputs": [],
   "source": [
    "dysdx = np.gradient(y_smooth, x)"
   ]
  },
  {
   "cell_type": "markdown",
   "id": "58e43241",
   "metadata": {},
   "source": [
    "Plot"
   ]
  },
  {
   "cell_type": "code",
   "execution_count": null,
   "id": "6497e420",
   "metadata": {},
   "outputs": [],
   "source": [
    "fig, ax = plt.subplots(1, 2, figsize=(10,3))\n",
    "ax[0].plot(x,y, label='$y(x)$')\n",
    "ax[0].plot(x, y_smooth, label=r'$y_{{smooth}}(x)$')\n",
    "ax[1].plot(x,dydx, label='$y\\'(x)$', color='r')\n",
    "ax[1].plot(x,dysdx, label='$y_{smooth}\\'(x)$', color='purple')\n",
    "ax[1].set_ylim(-100,120)\n",
    "ax[1].grid()\n",
    "[a.legend() for a in ax]\n",
    "[a.set_xlabel('Dias') for a in ax]\n",
    "ax[0].set_ylabel('Casos por Dia')\n",
    "ax[1].set_ylabel('$\\Delta$ (Casos por Dia) / $\\Delta t$')\n",
    "fig.tight_layout()\n",
    "plt.show()"
   ]
  },
  {
   "cell_type": "markdown",
   "id": "12a83361-aef7-4a6a-9057-70b70a3ee010",
   "metadata": {},
   "source": [
    "## Exercício\n",
    "\n",
    "Os dados a seguir correspondem ao aumento do número total de casos de Covid19 na cidade de Campinas durante o ano de 2022.\n",
    "\n",
    "Calcule a derivada dos dados e apresente de forma gráfica."
   ]
  },
  {
   "cell_type": "code",
   "execution_count": null,
   "id": "00c1ed66-225b-4064-a586-5cb9aec3d46f",
   "metadata": {},
   "outputs": [],
   "source": [
    "data = np.loadtxt('covid_campinas.csv', delimiter=',')\n",
    "x,y = np.split(data,2,axis=1)\n",
    "plt.plot(x, y, 'o--');"
   ]
  },
  {
   "cell_type": "code",
   "execution_count": null,
   "id": "5c49765c-94d8-467b-9722-614198e26d07",
   "metadata": {},
   "outputs": [],
   "source": []
  }
 ],
 "metadata": {
  "kernelspec": {
   "display_name": "Python 3 (ipykernel)",
   "language": "python",
   "name": "python3"
  },
  "language_info": {
   "codemirror_mode": {
    "name": "ipython",
    "version": 3
   },
   "file_extension": ".py",
   "mimetype": "text/x-python",
   "name": "python",
   "nbconvert_exporter": "python",
   "pygments_lexer": "ipython3",
   "version": "3.11.0"
  }
 },
 "nbformat": 4,
 "nbformat_minor": 5
}
